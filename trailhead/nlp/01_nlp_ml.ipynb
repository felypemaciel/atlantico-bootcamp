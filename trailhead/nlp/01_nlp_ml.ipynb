{
 "cells": [
  {
   "cell_type": "markdown",
   "id": "186a04c5",
   "metadata": {},
   "source": [
    "**bag of words**: matriz contendo uma variação de 0 a 1 para representar a importância de uma palavra em uma sentença."
   ]
  },
  {
   "cell_type": "markdown",
   "id": "6cdaf307",
   "metadata": {},
   "source": [
    "### bag of words com count vectorizer"
   ]
  },
  {
   "cell_type": "code",
   "execution_count": 7,
   "id": "17135db3",
   "metadata": {},
   "outputs": [],
   "source": [
    "from sklearn.feature_extraction.text import CountVectorizer\n",
    "count_vectorizer = CountVectorizer()\n",
    "from sklearn.model_selection import train_test_split\n",
    "import pandas as pd"
   ]
  },
  {
   "cell_type": "code",
   "execution_count": 8,
   "id": "406d6923",
   "metadata": {},
   "outputs": [],
   "source": [
    "clean_questions = pd.read_csv('clean_data.csv')"
   ]
  },
  {
   "cell_type": "code",
   "execution_count": 9,
   "id": "1685aad1",
   "metadata": {},
   "outputs": [],
   "source": [
    "# separando o texto da variável alvo\n",
    "list_corpus = clean_questions['text'].tolist()\n",
    "list_labels = clean_questions['class_label'].tolist()\n",
    "\n",
    "# separando entre treino e teste\n",
    "X_train, X_test, y_train, y_test = train_test_split(list_corpus, list_labels, test_size=0.2, random_state=40)\n",
    "\n",
    "# aprendendo o vocabulario e contabilizando os termos para teste\n",
    "X_train_coounts = count_vectorizer.fit_transform(X_train)\n",
    "\n",
    "# contabilizando os termos no vocabulário aprendido para treino\n",
    "X_test_counts = count_vectorizer.transform(X_test)"
   ]
  },
  {
   "cell_type": "markdown",
   "id": "56ee621b",
   "metadata": {},
   "source": [
    "## Visualizando o vocabulário"
   ]
  },
  {
   "cell_type": "code",
   "execution_count": null,
   "id": "7eb4e38a",
   "metadata": {},
   "outputs": [],
   "source": []
  }
 ],
 "metadata": {
  "kernelspec": {
   "display_name": "Python 3",
   "language": "python",
   "name": "python3"
  },
  "language_info": {
   "codemirror_mode": {
    "name": "ipython",
    "version": 3
   },
   "file_extension": ".py",
   "mimetype": "text/x-python",
   "name": "python",
   "nbconvert_exporter": "python",
   "pygments_lexer": "ipython3",
   "version": "3.8.8"
  }
 },
 "nbformat": 4,
 "nbformat_minor": 5
}
